{
  "nbformat": 4,
  "nbformat_minor": 0,
  "metadata": {
    "colab": {
      "name": "Working With numpy 2D Array Attribute.ipynb",
      "provenance": []
    },
    "kernelspec": {
      "name": "python3",
      "display_name": "Python 3"
    },
    "language_info": {
      "name": "python"
    }
  },
  "cells": [
    {
      "cell_type": "markdown",
      "source": [
        "#### Importing Numpy Library"
      ],
      "metadata": {
        "id": "0udCGJjnfp-D"
      }
    },
    {
      "cell_type": "code",
      "execution_count": 2,
      "metadata": {
        "id": "wfSP6RUNfhOD"
      },
      "outputs": [],
      "source": [
        "import numpy as np"
      ]
    },
    {
      "cell_type": "markdown",
      "source": [
        "#### 1D Array Attribute"
      ],
      "metadata": {
        "id": "mUlZxAd6f0s9"
      }
    },
    {
      "cell_type": "code",
      "source": [
        "# Creating an Array using Numpy Library\n",
        "\n",
        "my_array2 = np.array([[1,2,3],\n",
        "                      [4,5,6]])"
      ],
      "metadata": {
        "id": "rVXylgvrf0MK"
      },
      "execution_count": 10,
      "outputs": []
    },
    {
      "cell_type": "code",
      "source": [
        "# Output\n",
        "\n",
        "my_array2"
      ],
      "metadata": {
        "colab": {
          "base_uri": "https://localhost:8080/"
        },
        "id": "LOgA7vqogKEY",
        "outputId": "bc03c070-23b7-43dd-a171-39407400c336"
      },
      "execution_count": 11,
      "outputs": [
        {
          "output_type": "execute_result",
          "data": {
            "text/plain": [
              "array([[1, 2, 3],\n",
              "       [4, 5, 6]])"
            ]
          },
          "metadata": {},
          "execution_count": 11
        }
      ]
    },
    {
      "cell_type": "code",
      "source": [
        "# Checking Type\n",
        "\n",
        "type(my_array2)"
      ],
      "metadata": {
        "colab": {
          "base_uri": "https://localhost:8080/"
        },
        "id": "u9uBTt29gQwz",
        "outputId": "7229fb54-a7ea-4c16-a39f-4652a80de74f"
      },
      "execution_count": 12,
      "outputs": [
        {
          "output_type": "execute_result",
          "data": {
            "text/plain": [
              "numpy.ndarray"
            ]
          },
          "metadata": {},
          "execution_count": 12
        }
      ]
    },
    {
      "cell_type": "code",
      "source": [
        "# Checking Shape\n",
        "\n",
        "my_array2.shape"
      ],
      "metadata": {
        "colab": {
          "base_uri": "https://localhost:8080/"
        },
        "id": "wUZhmKh-gXtG",
        "outputId": "8765f035-55e3-4ed8-92ff-ba99b9610bb4"
      },
      "execution_count": 13,
      "outputs": [
        {
          "output_type": "execute_result",
          "data": {
            "text/plain": [
              "(2, 3)"
            ]
          },
          "metadata": {},
          "execution_count": 13
        }
      ]
    },
    {
      "cell_type": "code",
      "source": [
        "# Checking Diemension\n",
        "\n",
        "print(f\"Dimension of Following Array: {my_array2.ndim}D\")"
      ],
      "metadata": {
        "colab": {
          "base_uri": "https://localhost:8080/"
        },
        "id": "fszjf7luhYKy",
        "outputId": "d2da6f14-e024-48fc-fcd4-1f766df1c3f8"
      },
      "execution_count": 14,
      "outputs": [
        {
          "output_type": "stream",
          "name": "stdout",
          "text": [
            "Dimension of Following Array: 2D\n"
          ]
        }
      ]
    }
  ]
}