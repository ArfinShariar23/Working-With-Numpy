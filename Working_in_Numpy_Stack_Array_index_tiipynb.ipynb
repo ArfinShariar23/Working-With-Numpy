{
  "nbformat": 4,
  "nbformat_minor": 0,
  "metadata": {
    "colab": {
      "name": "Working in Numpy Stack Array index.tiipynb",
      "provenance": []
    },
    "kernelspec": {
      "name": "python3",
      "display_name": "Python 3"
    },
    "language_info": {
      "name": "python"
    }
  },
  "cells": [
    {
      "cell_type": "code",
      "execution_count": 134,
      "metadata": {
        "id": "424j040OT6jA"
      },
      "outputs": [],
      "source": [
        "# Importing numpy libraries\n",
        "\n",
        "import numpy as np"
      ]
    },
    {
      "cell_type": "code",
      "source": [
        "# Creatin an array\n",
        "\n",
        "a = np.arange(1,10).reshape(3,3)"
      ],
      "metadata": {
        "id": "AhF6gPAG4bQd"
      },
      "execution_count": 131,
      "outputs": []
    },
    {
      "cell_type": "code",
      "source": [
        "a"
      ],
      "metadata": {
        "colab": {
          "base_uri": "https://localhost:8080/"
        },
        "id": "zTDljnaz5FY5",
        "outputId": "a6672637-0f1a-40e4-88fd-1d482ccfbe27"
      },
      "execution_count": 132,
      "outputs": [
        {
          "output_type": "execute_result",
          "data": {
            "text/plain": [
              "array([[1, 2, 3],\n",
              "       [4, 5, 6],\n",
              "       [7, 8, 9]])"
            ]
          },
          "metadata": {},
          "execution_count": 132
        }
      ]
    },
    {
      "cell_type": "code",
      "source": [
        "b = a*2 #normal arithmetic operation on b"
      ],
      "metadata": {
        "id": "WMZh2CsT5GjG"
      },
      "execution_count": 133,
      "outputs": []
    },
    {
      "cell_type": "code",
      "source": [
        "b"
      ],
      "metadata": {
        "colab": {
          "base_uri": "https://localhost:8080/"
        },
        "id": "YXXqqOUy5i_e",
        "outputId": "7dea2c60-93ad-4300-f8f5-3cca3ef86877"
      },
      "execution_count": 137,
      "outputs": [
        {
          "output_type": "execute_result",
          "data": {
            "text/plain": [
              "array([[ 2,  4,  6],\n",
              "       [ 8, 10, 12],\n",
              "       [14, 16, 18]])"
            ]
          },
          "metadata": {},
          "execution_count": 137
        }
      ]
    },
    {
      "cell_type": "markdown",
      "source": [
        "#### Horizontal Stack"
      ],
      "metadata": {
        "id": "Ni13z9Lo6l0J"
      }
    },
    {
      "cell_type": "code",
      "source": [
        "#hstack\n",
        "\n",
        "hstack1 = np.hstack((a,b))"
      ],
      "metadata": {
        "id": "GoESlOF35OML"
      },
      "execution_count": 135,
      "outputs": []
    },
    {
      "cell_type": "code",
      "source": [
        "hstack1"
      ],
      "metadata": {
        "colab": {
          "base_uri": "https://localhost:8080/"
        },
        "id": "KfZgFrhF5gqs",
        "outputId": "cc096b82-376b-4ca6-cfc5-319895f2f5a8"
      },
      "execution_count": 136,
      "outputs": [
        {
          "output_type": "execute_result",
          "data": {
            "text/plain": [
              "array([[ 1,  2,  3,  2,  4,  6],\n",
              "       [ 4,  5,  6,  8, 10, 12],\n",
              "       [ 7,  8,  9, 14, 16, 18]])"
            ]
          },
          "metadata": {},
          "execution_count": 136
        }
      ]
    },
    {
      "cell_type": "code",
      "source": [
        "# We can also do it using coloumn stack\n",
        "\n",
        "col_stack = np.column_stack((a,b))"
      ],
      "metadata": {
        "id": "OiF08BB65q7a"
      },
      "execution_count": 138,
      "outputs": []
    },
    {
      "cell_type": "code",
      "source": [
        "col_stack\n",
        "\n",
        "# output of the col_stack and hstack1 will be same"
      ],
      "metadata": {
        "colab": {
          "base_uri": "https://localhost:8080/"
        },
        "id": "pKC-UoF758vr",
        "outputId": "30d1c5b4-235d-43a3-c30e-1738cff4a646"
      },
      "execution_count": 139,
      "outputs": [
        {
          "output_type": "execute_result",
          "data": {
            "text/plain": [
              "array([[ 1,  2,  3,  2,  4,  6],\n",
              "       [ 4,  5,  6,  8, 10, 12],\n",
              "       [ 7,  8,  9, 14, 16, 18]])"
            ]
          },
          "metadata": {},
          "execution_count": 139
        }
      ]
    },
    {
      "cell_type": "code",
      "source": [
        "# we can also do it using concating()\n",
        "\n",
        "concating = np.concatenate((a,b),axis=1)"
      ],
      "metadata": {
        "id": "HCboUwxa6Nh9"
      },
      "execution_count": 140,
      "outputs": []
    },
    {
      "cell_type": "code",
      "source": [
        "concating # Output will be same as like col_stack and hstack1"
      ],
      "metadata": {
        "colab": {
          "base_uri": "https://localhost:8080/"
        },
        "id": "W7_2ekcN6XMK",
        "outputId": "67d691e2-227e-4c4f-d9eb-e41167a3dc91"
      },
      "execution_count": 142,
      "outputs": [
        {
          "output_type": "execute_result",
          "data": {
            "text/plain": [
              "array([[ 1,  2,  3,  2,  4,  6],\n",
              "       [ 4,  5,  6,  8, 10, 12],\n",
              "       [ 7,  8,  9, 14, 16, 18]])"
            ]
          },
          "metadata": {},
          "execution_count": 142
        }
      ]
    },
    {
      "cell_type": "markdown",
      "source": [
        "#### Vertical Stack"
      ],
      "metadata": {
        "id": "rvJoTpgD6pAv"
      }
    },
    {
      "cell_type": "code",
      "source": [
        "#vstack()\n",
        "vstack1 = np.vstack((a,b))"
      ],
      "metadata": {
        "id": "dUiHT7rp6gHH"
      },
      "execution_count": 144,
      "outputs": []
    },
    {
      "cell_type": "code",
      "source": [
        "vstack1"
      ],
      "metadata": {
        "colab": {
          "base_uri": "https://localhost:8080/"
        },
        "id": "MU_77vV_6yB9",
        "outputId": "6d9dfab4-2b66-43b6-cb9f-30d8fd1e5886"
      },
      "execution_count": 145,
      "outputs": [
        {
          "output_type": "execute_result",
          "data": {
            "text/plain": [
              "array([[ 1,  2,  3],\n",
              "       [ 4,  5,  6],\n",
              "       [ 7,  8,  9],\n",
              "       [ 2,  4,  6],\n",
              "       [ 8, 10, 12],\n",
              "       [14, 16, 18]])"
            ]
          },
          "metadata": {},
          "execution_count": 145
        }
      ]
    },
    {
      "cell_type": "code",
      "source": [
        "#row_stack()\n",
        "row_stack = np.row_stack((a,b))"
      ],
      "metadata": {
        "id": "_f3-P3UH60cH"
      },
      "execution_count": 146,
      "outputs": []
    },
    {
      "cell_type": "code",
      "source": [
        "row_stack #Output will be same to vstack"
      ],
      "metadata": {
        "colab": {
          "base_uri": "https://localhost:8080/"
        },
        "id": "zF3oIB8t68gS",
        "outputId": "9d69f313-72cf-4058-b398-583b3e6a4e20"
      },
      "execution_count": 147,
      "outputs": [
        {
          "output_type": "execute_result",
          "data": {
            "text/plain": [
              "array([[ 1,  2,  3],\n",
              "       [ 4,  5,  6],\n",
              "       [ 7,  8,  9],\n",
              "       [ 2,  4,  6],\n",
              "       [ 8, 10, 12],\n",
              "       [14, 16, 18]])"
            ]
          },
          "metadata": {},
          "execution_count": 147
        }
      ]
    },
    {
      "cell_type": "code",
      "source": [
        "# concating for row_stack\n",
        "\n",
        "concating_r = np.concatenate((a,b),axis = 0)"
      ],
      "metadata": {
        "id": "iHFOvHpY7D_G"
      },
      "execution_count": 148,
      "outputs": []
    },
    {
      "cell_type": "code",
      "source": [
        "concating_r # output will be same to vstack and row_stack"
      ],
      "metadata": {
        "colab": {
          "base_uri": "https://localhost:8080/"
        },
        "id": "Yn_LDsUB7TJg",
        "outputId": "9e7e8d01-f828-4ab2-ed1c-7de89004fe94"
      },
      "execution_count": 149,
      "outputs": [
        {
          "output_type": "execute_result",
          "data": {
            "text/plain": [
              "array([[ 1,  2,  3],\n",
              "       [ 4,  5,  6],\n",
              "       [ 7,  8,  9],\n",
              "       [ 2,  4,  6],\n",
              "       [ 8, 10, 12],\n",
              "       [14, 16, 18]])"
            ]
          },
          "metadata": {},
          "execution_count": 149
        }
      ]
    },
    {
      "cell_type": "markdown",
      "source": [
        "#### Depth Stacking"
      ],
      "metadata": {
        "id": "uE6DsGsZ7abH"
      }
    },
    {
      "cell_type": "code",
      "source": [
        "#dstack\n",
        "\n",
        "depth_Stack = np.dstack((a,b))"
      ],
      "metadata": {
        "id": "yCejBoux7Z8p"
      },
      "execution_count": 150,
      "outputs": []
    },
    {
      "cell_type": "code",
      "source": [
        "depth_Stack"
      ],
      "metadata": {
        "colab": {
          "base_uri": "https://localhost:8080/"
        },
        "id": "y35TclOn7nUT",
        "outputId": "d01e9c15-4431-4f0b-db14-12402b34367e"
      },
      "execution_count": 151,
      "outputs": [
        {
          "output_type": "execute_result",
          "data": {
            "text/plain": [
              "array([[[ 1,  2],\n",
              "        [ 2,  4],\n",
              "        [ 3,  6]],\n",
              "\n",
              "       [[ 4,  8],\n",
              "        [ 5, 10],\n",
              "        [ 6, 12]],\n",
              "\n",
              "       [[ 7, 14],\n",
              "        [ 8, 16],\n",
              "        [ 9, 18]]])"
            ]
          },
          "metadata": {},
          "execution_count": 151
        }
      ]
    }
  ]
}