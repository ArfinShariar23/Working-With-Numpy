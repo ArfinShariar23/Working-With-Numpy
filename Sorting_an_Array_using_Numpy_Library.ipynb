{
  "nbformat": 4,
  "nbformat_minor": 0,
  "metadata": {
    "colab": {
      "name": "Sorting an Array using Numpy Library.ipynb",
      "provenance": []
    },
    "kernelspec": {
      "name": "python3",
      "display_name": "Python 3"
    },
    "language_info": {
      "name": "python"
    }
  },
  "cells": [
    {
      "cell_type": "markdown",
      "source": [
        "#### Sorting an 1D Array"
      ],
      "metadata": {
        "id": "LPF9euS5GV8p"
      }
    },
    {
      "cell_type": "code",
      "execution_count": 1,
      "metadata": {
        "id": "QhTP08BxFq0K"
      },
      "outputs": [],
      "source": [
        "import numpy as np"
      ]
    },
    {
      "cell_type": "code",
      "source": [
        "#Array1\n",
        "arr1 = np.array([2,7,8,5,3,8,10])"
      ],
      "metadata": {
        "id": "Smoj3LPVF0T4"
      },
      "execution_count": 2,
      "outputs": []
    },
    {
      "cell_type": "code",
      "source": [
        "arr1"
      ],
      "metadata": {
        "colab": {
          "base_uri": "https://localhost:8080/"
        },
        "id": "xfzNLpZvGDrv",
        "outputId": "5a0296a4-05ea-4b1a-972e-687d30c151c8"
      },
      "execution_count": 3,
      "outputs": [
        {
          "output_type": "execute_result",
          "data": {
            "text/plain": [
              "array([ 2,  7,  8,  5,  3,  8, 10])"
            ]
          },
          "metadata": {},
          "execution_count": 3
        }
      ]
    },
    {
      "cell_type": "code",
      "source": [
        "print(\"Array1 After Sorting: \",np.sort(arr1))"
      ],
      "metadata": {
        "colab": {
          "base_uri": "https://localhost:8080/"
        },
        "id": "yrzS5Hy1GF0a",
        "outputId": "09125067-7fb3-4584-8e97-6c4b9ec2ede7"
      },
      "execution_count": 4,
      "outputs": [
        {
          "output_type": "stream",
          "name": "stdout",
          "text": [
            "Array1 After Sorting:  [ 2  3  5  7  8  8 10]\n"
          ]
        }
      ]
    },
    {
      "cell_type": "code",
      "source": [
        "#Array2\n",
        "arr2 = np.array(['Apple','Litchi','Banana','Mango','Olive','Berry'])"
      ],
      "metadata": {
        "id": "nMldQrwdGa1o"
      },
      "execution_count": 5,
      "outputs": []
    },
    {
      "cell_type": "code",
      "source": [
        "arr2"
      ],
      "metadata": {
        "colab": {
          "base_uri": "https://localhost:8080/"
        },
        "id": "OMFQLKayGp7m",
        "outputId": "ab878c3e-5bd3-47df-b126-ee25875ba205"
      },
      "execution_count": 6,
      "outputs": [
        {
          "output_type": "execute_result",
          "data": {
            "text/plain": [
              "array(['Apple', 'Litchi', 'Banana', 'Mango', 'Olive', 'Berry'],\n",
              "      dtype='<U6')"
            ]
          },
          "metadata": {},
          "execution_count": 6
        }
      ]
    },
    {
      "cell_type": "code",
      "source": [
        "print(\"Array2 After Sorting: \",np.sort(arr2))"
      ],
      "metadata": {
        "colab": {
          "base_uri": "https://localhost:8080/"
        },
        "id": "LOpSDiNlGszU",
        "outputId": "3d262849-e9c7-4a12-ad4e-5d0aa05cb19f"
      },
      "execution_count": 8,
      "outputs": [
        {
          "output_type": "stream",
          "name": "stdout",
          "text": [
            "Array2 After Sorting:  ['Apple' 'Banana' 'Berry' 'Litchi' 'Mango' 'Olive']\n"
          ]
        }
      ]
    },
    {
      "cell_type": "code",
      "source": [
        "#Array3\n",
        "#Sorting an Boolean Array\n",
        "\n",
        "arr3 = np.array([True,False,False,True,False])"
      ],
      "metadata": {
        "id": "7WjanxoYHBeM"
      },
      "execution_count": 9,
      "outputs": []
    },
    {
      "cell_type": "code",
      "source": [
        "arr3"
      ],
      "metadata": {
        "colab": {
          "base_uri": "https://localhost:8080/"
        },
        "id": "aJX7tHnpHRZ1",
        "outputId": "1dd095ae-7a40-44bd-ded8-33c95dedbb55"
      },
      "execution_count": 10,
      "outputs": [
        {
          "output_type": "execute_result",
          "data": {
            "text/plain": [
              "array([ True, False, False,  True, False])"
            ]
          },
          "metadata": {},
          "execution_count": 10
        }
      ]
    },
    {
      "cell_type": "code",
      "source": [
        "print(\"Array3 after sorting: \",np.sort(arr3))"
      ],
      "metadata": {
        "colab": {
          "base_uri": "https://localhost:8080/"
        },
        "id": "rTU9d1bKHUGI",
        "outputId": "b1c7970a-68c0-471c-d0c1-5f0cc0e917e1"
      },
      "execution_count": 12,
      "outputs": [
        {
          "output_type": "stream",
          "name": "stdout",
          "text": [
            "Array3 after sorting:  [False False False  True  True]\n"
          ]
        }
      ]
    },
    {
      "cell_type": "markdown",
      "source": [
        "#### Sorting a 2D Array"
      ],
      "metadata": {
        "id": "0tFkMzYAHnJE"
      }
    },
    {
      "cell_type": "code",
      "source": [
        "#Creating a 2D Array\n",
        "\n",
        "arr4 = np.array([[1,2,3],[5,2,8]])"
      ],
      "metadata": {
        "id": "tBjbFRRfHmTM"
      },
      "execution_count": 14,
      "outputs": []
    },
    {
      "cell_type": "code",
      "source": [
        "arr4"
      ],
      "metadata": {
        "colab": {
          "base_uri": "https://localhost:8080/"
        },
        "id": "dj8Uo321H58Y",
        "outputId": "5adaaaf6-e775-43fb-bdaa-236b5289cfe3"
      },
      "execution_count": 15,
      "outputs": [
        {
          "output_type": "execute_result",
          "data": {
            "text/plain": [
              "array([[1, 2, 3],\n",
              "       [5, 2, 8]])"
            ]
          },
          "metadata": {},
          "execution_count": 15
        }
      ]
    },
    {
      "cell_type": "code",
      "source": [
        "print(\"2D Array4 After Sorting: \\n\",np.sort(arr4))"
      ],
      "metadata": {
        "colab": {
          "base_uri": "https://localhost:8080/"
        },
        "id": "AlZkT3_kIANx",
        "outputId": "c5f5ee96-ce11-4ff7-ddca-68c5b0f6d552"
      },
      "execution_count": 17,
      "outputs": [
        {
          "output_type": "stream",
          "name": "stdout",
          "text": [
            "2D Array4 After Sorting: \n",
            " [[1 2 3]\n",
            " [2 5 8]]\n"
          ]
        }
      ]
    }
  ]
}