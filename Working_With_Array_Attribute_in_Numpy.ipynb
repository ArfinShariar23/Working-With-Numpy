{
  "nbformat": 4,
  "nbformat_minor": 0,
  "metadata": {
    "colab": {
      "name": "Working With Array Attribute in Numpy.ipynb",
      "provenance": []
    },
    "kernelspec": {
      "name": "python3",
      "display_name": "Python 3"
    },
    "language_info": {
      "name": "python"
    }
  },
  "cells": [
    {
      "cell_type": "code",
      "execution_count": 1,
      "metadata": {
        "id": "424j040OT6jA"
      },
      "outputs": [],
      "source": [
        "# Importing numpy libraries\n",
        "\n",
        "import numpy as np"
      ]
    },
    {
      "cell_type": "code",
      "source": [
        "# Creating a 3D Array\n",
        "\n",
        "c = np.array([[[1,2,3],\n",
        "               [4,5,6],\n",
        "               [7,8,9]],\n",
        "              \n",
        "              [[10,11,12],\n",
        "               [13,14,15],\n",
        "               [16,17,18]]])"
      ],
      "metadata": {
        "id": "ktHnWtWQUL8s"
      },
      "execution_count": 2,
      "outputs": []
    },
    {
      "cell_type": "code",
      "source": [
        "# Output of C\n",
        "\n",
        "c"
      ],
      "metadata": {
        "colab": {
          "base_uri": "https://localhost:8080/"
        },
        "id": "jQhlDfF_U5Ml",
        "outputId": "35686357-cd99-4ab7-d64a-b40b5ab0c82b"
      },
      "execution_count": 3,
      "outputs": [
        {
          "output_type": "execute_result",
          "data": {
            "text/plain": [
              "array([[[ 1,  2,  3],\n",
              "        [ 4,  5,  6],\n",
              "        [ 7,  8,  9]],\n",
              "\n",
              "       [[10, 11, 12],\n",
              "        [13, 14, 15],\n",
              "        [16, 17, 18]]])"
            ]
          },
          "metadata": {},
          "execution_count": 3
        }
      ]
    },
    {
      "cell_type": "code",
      "source": [
        "#Checking Shape\n",
        "\n",
        "c.shape"
      ],
      "metadata": {
        "colab": {
          "base_uri": "https://localhost:8080/"
        },
        "id": "nhFqwHKsU7uN",
        "outputId": "4f12b0b1-b0e6-4fb7-f1f3-2cb9dbfb2818"
      },
      "execution_count": 6,
      "outputs": [
        {
          "output_type": "execute_result",
          "data": {
            "text/plain": [
              "(2, 3, 3)"
            ]
          },
          "metadata": {},
          "execution_count": 6
        }
      ]
    },
    {
      "cell_type": "code",
      "source": [
        "#Checking Data type\n",
        "\n",
        "c.dtype"
      ],
      "metadata": {
        "colab": {
          "base_uri": "https://localhost:8080/"
        },
        "id": "XAiDp0aDVHez",
        "outputId": "baddcb94-7db2-4523-9a36-bf2bc519a72a"
      },
      "execution_count": 7,
      "outputs": [
        {
          "output_type": "execute_result",
          "data": {
            "text/plain": [
              "dtype('int64')"
            ]
          },
          "metadata": {},
          "execution_count": 7
        }
      ]
    },
    {
      "cell_type": "code",
      "source": [
        "#Checking number of Elements in an array\n",
        "\n",
        "c.size"
      ],
      "metadata": {
        "colab": {
          "base_uri": "https://localhost:8080/"
        },
        "id": "Nmb11mRUVXbN",
        "outputId": "798a2c9a-4084-4efd-80c2-666bd697c935"
      },
      "execution_count": 9,
      "outputs": [
        {
          "output_type": "execute_result",
          "data": {
            "text/plain": [
              "18"
            ]
          },
          "metadata": {},
          "execution_count": 9
        }
      ]
    },
    {
      "cell_type": "code",
      "source": [
        "#Checking Memory alocation for an array\n",
        "\n",
        "c.data"
      ],
      "metadata": {
        "colab": {
          "base_uri": "https://localhost:8080/"
        },
        "id": "da6yRJbHWPeW",
        "outputId": "cac2c76b-cdb4-44a6-e4a3-aa97c9b664aa"
      },
      "execution_count": 14,
      "outputs": [
        {
          "output_type": "execute_result",
          "data": {
            "text/plain": [
              "<memory at 0x7fafe0de5950>"
            ]
          },
          "metadata": {},
          "execution_count": 14
        }
      ]
    },
    {
      "cell_type": "code",
      "source": [
        "#Total bytes consumed by elements of array\n",
        "\n",
        "c.nbytes"
      ],
      "metadata": {
        "colab": {
          "base_uri": "https://localhost:8080/"
        },
        "id": "rX5kbdgBVkmI",
        "outputId": "9cfb484b-7a80-48f8-dc4e-2a3dbfc68c0c"
      },
      "execution_count": 13,
      "outputs": [
        {
          "output_type": "execute_result",
          "data": {
            "text/plain": [
              "144"
            ]
          },
          "metadata": {},
          "execution_count": 13
        }
      ]
    }
  ]
}