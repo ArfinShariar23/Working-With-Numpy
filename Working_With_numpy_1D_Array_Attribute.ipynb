{
  "nbformat": 4,
  "nbformat_minor": 0,
  "metadata": {
    "colab": {
      "name": "Working With numpy 1D Array Attribute.ipynb",
      "provenance": []
    },
    "kernelspec": {
      "name": "python3",
      "display_name": "Python 3"
    },
    "language_info": {
      "name": "python"
    }
  },
  "cells": [
    {
      "cell_type": "markdown",
      "source": [
        "#### Importing Numpy Library"
      ],
      "metadata": {
        "id": "0udCGJjnfp-D"
      }
    },
    {
      "cell_type": "code",
      "execution_count": 2,
      "metadata": {
        "id": "wfSP6RUNfhOD"
      },
      "outputs": [],
      "source": [
        "import numpy as np"
      ]
    },
    {
      "cell_type": "markdown",
      "source": [
        "#### 1D Array Attribute"
      ],
      "metadata": {
        "id": "mUlZxAd6f0s9"
      }
    },
    {
      "cell_type": "code",
      "source": [
        "# Creating an Array using Numpy Library\n",
        "\n",
        "my_array = np.array([1,2,3])"
      ],
      "metadata": {
        "id": "rVXylgvrf0MK"
      },
      "execution_count": 3,
      "outputs": []
    },
    {
      "cell_type": "code",
      "source": [
        "# Output\n",
        "\n",
        "my_array"
      ],
      "metadata": {
        "colab": {
          "base_uri": "https://localhost:8080/"
        },
        "id": "LOgA7vqogKEY",
        "outputId": "9bb2adcf-028a-4268-9532-32576adcce9d"
      },
      "execution_count": 4,
      "outputs": [
        {
          "output_type": "execute_result",
          "data": {
            "text/plain": [
              "array([1, 2, 3])"
            ]
          },
          "metadata": {},
          "execution_count": 4
        }
      ]
    },
    {
      "cell_type": "code",
      "source": [
        "# Checking Type\n",
        "\n",
        "type(my_array)"
      ],
      "metadata": {
        "colab": {
          "base_uri": "https://localhost:8080/"
        },
        "id": "u9uBTt29gQwz",
        "outputId": "a01cdb84-9139-4a90-b2af-a21a78762e31"
      },
      "execution_count": 5,
      "outputs": [
        {
          "output_type": "execute_result",
          "data": {
            "text/plain": [
              "numpy.ndarray"
            ]
          },
          "metadata": {},
          "execution_count": 5
        }
      ]
    },
    {
      "cell_type": "code",
      "source": [
        "# Checking Shape\n",
        "\n",
        "my_array.shape"
      ],
      "metadata": {
        "colab": {
          "base_uri": "https://localhost:8080/"
        },
        "id": "wUZhmKh-gXtG",
        "outputId": "988e3bc8-4a83-4419-8361-6ad0519dc546"
      },
      "execution_count": 6,
      "outputs": [
        {
          "output_type": "execute_result",
          "data": {
            "text/plain": [
              "(3,)"
            ]
          },
          "metadata": {},
          "execution_count": 6
        }
      ]
    },
    {
      "cell_type": "code",
      "source": [
        "# Checking Diemension\n",
        "\n",
        "print(f\"Dimension of Following Array: {my_array.ndim}D\")"
      ],
      "metadata": {
        "colab": {
          "base_uri": "https://localhost:8080/"
        },
        "id": "fszjf7luhYKy",
        "outputId": "066cc9a5-a1ee-48d3-b2eb-2dcccc7fc62c"
      },
      "execution_count": 9,
      "outputs": [
        {
          "output_type": "stream",
          "name": "stdout",
          "text": [
            "Dimension of Following Array: 1D\n"
          ]
        }
      ]
    }
  ]
}