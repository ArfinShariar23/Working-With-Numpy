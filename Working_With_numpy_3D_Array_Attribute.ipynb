{
  "nbformat": 4,
  "nbformat_minor": 0,
  "metadata": {
    "colab": {
      "name": "Working With numpy 3D Array Attribute.ipynb",
      "provenance": []
    },
    "kernelspec": {
      "name": "python3",
      "display_name": "Python 3"
    },
    "language_info": {
      "name": "python"
    }
  },
  "cells": [
    {
      "cell_type": "markdown",
      "source": [
        "#### Importing Numpy Library"
      ],
      "metadata": {
        "id": "0udCGJjnfp-D"
      }
    },
    {
      "cell_type": "code",
      "execution_count": 2,
      "metadata": {
        "id": "wfSP6RUNfhOD"
      },
      "outputs": [],
      "source": [
        "import numpy as np"
      ]
    },
    {
      "cell_type": "markdown",
      "source": [
        "#### 1D Array Attribute"
      ],
      "metadata": {
        "id": "mUlZxAd6f0s9"
      }
    },
    {
      "cell_type": "code",
      "source": [
        "# Creating an 3D Array using Numpy Library\n",
        "\n",
        "my_array3 = np.array([[[1,2,3],\n",
        "                       [4,5,6],\n",
        "                       [7,8,9]]])"
      ],
      "metadata": {
        "id": "rVXylgvrf0MK"
      },
      "execution_count": 15,
      "outputs": []
    },
    {
      "cell_type": "code",
      "source": [
        "# Output\n",
        "\n",
        "my_array3"
      ],
      "metadata": {
        "colab": {
          "base_uri": "https://localhost:8080/"
        },
        "id": "LOgA7vqogKEY",
        "outputId": "62a96cab-d45f-4680-cabc-3501c442a0d1"
      },
      "execution_count": 16,
      "outputs": [
        {
          "output_type": "execute_result",
          "data": {
            "text/plain": [
              "array([[[1, 2, 3],\n",
              "        [4, 5, 6],\n",
              "        [7, 8, 9]]])"
            ]
          },
          "metadata": {},
          "execution_count": 16
        }
      ]
    },
    {
      "cell_type": "code",
      "source": [
        "# Checking Type\n",
        "\n",
        "type(my_array3)"
      ],
      "metadata": {
        "colab": {
          "base_uri": "https://localhost:8080/"
        },
        "id": "u9uBTt29gQwz",
        "outputId": "813ec0c5-79c1-48ee-95e3-bc39ef35a3fa"
      },
      "execution_count": 17,
      "outputs": [
        {
          "output_type": "execute_result",
          "data": {
            "text/plain": [
              "numpy.ndarray"
            ]
          },
          "metadata": {},
          "execution_count": 17
        }
      ]
    },
    {
      "cell_type": "code",
      "source": [
        "# Checking Shape\n",
        "\n",
        "my_array3.shape"
      ],
      "metadata": {
        "colab": {
          "base_uri": "https://localhost:8080/"
        },
        "id": "wUZhmKh-gXtG",
        "outputId": "ee8b331e-771c-49f8-881a-9d3fcf602095"
      },
      "execution_count": 18,
      "outputs": [
        {
          "output_type": "execute_result",
          "data": {
            "text/plain": [
              "(1, 3, 3)"
            ]
          },
          "metadata": {},
          "execution_count": 18
        }
      ]
    },
    {
      "cell_type": "code",
      "source": [
        "# Checking Diemension\n",
        "\n",
        "print(f\"Dimension of Following Array: {my_array3.ndim}D\")"
      ],
      "metadata": {
        "colab": {
          "base_uri": "https://localhost:8080/"
        },
        "id": "fszjf7luhYKy",
        "outputId": "e0c8f9de-51ae-4dd5-9b2c-1d6a7f37906e"
      },
      "execution_count": 19,
      "outputs": [
        {
          "output_type": "stream",
          "name": "stdout",
          "text": [
            "Dimension of Following Array: 3D\n"
          ]
        }
      ]
    },
    {
      "cell_type": "code",
      "source": [
        "# Creating Another 3D Diemension Array\n",
        "\n",
        "my_array4 = np.array([[[1,2,3],\n",
        "                       [4,5,6],\n",
        "                       [7,8,9]],\n",
        "                      \n",
        "                      [[10,11,12],\n",
        "                       [13,14,15],\n",
        "                       [16,17,18]]])"
      ],
      "metadata": {
        "id": "tRc4M7aHkqgJ"
      },
      "execution_count": 25,
      "outputs": []
    },
    {
      "cell_type": "code",
      "source": [
        "# output of my_array4\n",
        "\n",
        "my_array4"
      ],
      "metadata": {
        "colab": {
          "base_uri": "https://localhost:8080/"
        },
        "id": "mMF73eAdlEeW",
        "outputId": "f75f1e79-ad24-40ac-ce2e-38ee200cb940"
      },
      "execution_count": 26,
      "outputs": [
        {
          "output_type": "execute_result",
          "data": {
            "text/plain": [
              "array([[[ 1,  2,  3],\n",
              "        [ 4,  5,  6],\n",
              "        [ 7,  8,  9]],\n",
              "\n",
              "       [[10, 11, 12],\n",
              "        [13, 14, 15],\n",
              "        [16, 17, 18]]])"
            ]
          },
          "metadata": {},
          "execution_count": 26
        }
      ]
    },
    {
      "cell_type": "code",
      "source": [
        "# Checking Shape of my_array4\n",
        "\n",
        "my_array4.shape"
      ],
      "metadata": {
        "colab": {
          "base_uri": "https://localhost:8080/"
        },
        "id": "ClxMQK58lIqr",
        "outputId": "0999b3a3-571e-443a-8890-8685b7eef854"
      },
      "execution_count": 27,
      "outputs": [
        {
          "output_type": "execute_result",
          "data": {
            "text/plain": [
              "(2, 3, 3)"
            ]
          },
          "metadata": {},
          "execution_count": 27
        }
      ]
    },
    {
      "cell_type": "code",
      "source": [
        "# Checking type of my_array4\n",
        "\n",
        "type(my_array4)"
      ],
      "metadata": {
        "colab": {
          "base_uri": "https://localhost:8080/"
        },
        "id": "-9zUAO8FlL5b",
        "outputId": "a5216c7f-b955-40e1-ef40-b3e59eea8724"
      },
      "execution_count": 28,
      "outputs": [
        {
          "output_type": "execute_result",
          "data": {
            "text/plain": [
              "numpy.ndarray"
            ]
          },
          "metadata": {},
          "execution_count": 28
        }
      ]
    },
    {
      "cell_type": "code",
      "source": [
        "# Checking Diemension of my_array4\n",
        "\n",
        "print(f\"Dimension of Following Array: {my_array4.ndim}D\")"
      ],
      "metadata": {
        "colab": {
          "base_uri": "https://localhost:8080/"
        },
        "id": "m3ut_kX_lS4q",
        "outputId": "610e1e35-3f8b-4c43-ecb6-c71c99974d1b"
      },
      "execution_count": 29,
      "outputs": [
        {
          "output_type": "stream",
          "name": "stdout",
          "text": [
            "Dimension of Following Array: 3D\n"
          ]
        }
      ]
    }
  ]
}